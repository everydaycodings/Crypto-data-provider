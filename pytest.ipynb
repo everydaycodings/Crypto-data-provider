{
 "cells": [
  {
   "cell_type": "code",
   "execution_count": 1,
   "metadata": {},
   "outputs": [],
   "source": [
    "import pandas as pd"
   ]
  },
  {
   "cell_type": "code",
   "execution_count": 2,
   "metadata": {},
   "outputs": [
    {
     "data": {
      "text/html": [
       "<div>\n",
       "<style scoped>\n",
       "    .dataframe tbody tr th:only-of-type {\n",
       "        vertical-align: middle;\n",
       "    }\n",
       "\n",
       "    .dataframe tbody tr th {\n",
       "        vertical-align: top;\n",
       "    }\n",
       "\n",
       "    .dataframe thead th {\n",
       "        text-align: right;\n",
       "    }\n",
       "</style>\n",
       "<table border=\"1\" class=\"dataframe\">\n",
       "  <thead>\n",
       "    <tr style=\"text-align: right;\">\n",
       "      <th></th>\n",
       "      <th>Created-Date</th>\n",
       "      <th>Updated-Date</th>\n",
       "      <th>Name</th>\n",
       "      <th>Symbol</th>\n",
       "      <th>Listed</th>\n",
       "      <th>Price</th>\n",
       "      <th>Website</th>\n",
       "      <th>geko_slug</th>\n",
       "      <th>twitter</th>\n",
       "      <th>initial_supply</th>\n",
       "      <th>max_supply</th>\n",
       "      <th>whitepaper_link</th>\n",
       "      <th>Vc_invested</th>\n",
       "      <th>Top_VC</th>\n",
       "      <th>Explorer</th>\n",
       "      <th>Others</th>\n",
       "    </tr>\n",
       "  </thead>\n",
       "  <tbody>\n",
       "    <tr>\n",
       "      <th>0</th>\n",
       "      <td>24/09/22</td>\n",
       "      <td>24/09/22</td>\n",
       "      <td>Litentry</td>\n",
       "      <td>LIT</td>\n",
       "      <td>Yes</td>\n",
       "      <td>0.607962</td>\n",
       "      <td>https://litentry.com/</td>\n",
       "      <td>litentry</td>\n",
       "      <td>https://twitter.com/litentry</td>\n",
       "      <td>37619382</td>\n",
       "      <td>100000000</td>\n",
       "      <td>https://docs.litentry.com</td>\n",
       "      <td>15</td>\n",
       "      <td>1</td>\n",
       "      <td>https://etherscan.io/token/0xb59490ab09a0f526c...</td>\n",
       "      <td>NaN</td>\n",
       "    </tr>\n",
       "    <tr>\n",
       "      <th>1</th>\n",
       "      <td>24/09/22</td>\n",
       "      <td>24/09/22</td>\n",
       "      <td>Inery</td>\n",
       "      <td>INR</td>\n",
       "      <td>No</td>\n",
       "      <td>0.220000</td>\n",
       "      <td>https://inery.io/</td>\n",
       "      <td>NaN</td>\n",
       "      <td>https://twitter.com/ineryblockchain</td>\n",
       "      <td>6000000</td>\n",
       "      <td>800000000</td>\n",
       "      <td>https://inery.gitbook.io/whitepaper/</td>\n",
       "      <td>8</td>\n",
       "      <td>0</td>\n",
       "      <td>https://explorer.inery.io/</td>\n",
       "      <td>NaN</td>\n",
       "    </tr>\n",
       "  </tbody>\n",
       "</table>\n",
       "</div>"
      ],
      "text/plain": [
       "  Created-Date Updated-Date      Name Symbol Listed     Price  \\\n",
       "0     24/09/22     24/09/22  Litentry    LIT    Yes  0.607962   \n",
       "1     24/09/22     24/09/22     Inery    INR     No  0.220000   \n",
       "\n",
       "                 Website geko_slug                              twitter  \\\n",
       "0  https://litentry.com/  litentry         https://twitter.com/litentry   \n",
       "1      https://inery.io/       NaN  https://twitter.com/ineryblockchain   \n",
       "\n",
       "   initial_supply  max_supply                       whitepaper_link  \\\n",
       "0        37619382   100000000             https://docs.litentry.com   \n",
       "1         6000000   800000000  https://inery.gitbook.io/whitepaper/   \n",
       "\n",
       "   Vc_invested  Top_VC                                           Explorer  \\\n",
       "0           15       1  https://etherscan.io/token/0xb59490ab09a0f526c...   \n",
       "1            8       0                         https://explorer.inery.io/   \n",
       "\n",
       "   Others  \n",
       "0     NaN  \n",
       "1     NaN  "
      ]
     },
     "execution_count": 2,
     "metadata": {},
     "output_type": "execute_result"
    }
   ],
   "source": [
    "data = pd.read_csv(\"https://raw.githubusercontent.com/everydaycodings/Crypto-data-provider/master/eye-keeping-crypto.csv?token=GHSAT0AAAAAABYGJIL3GAYP4YXKYXEC26X6YZOU5YQ\")\n",
    "data"
   ]
  }
 ],
 "metadata": {
  "kernelspec": {
   "display_name": "Python 3.9.13 ('crypto_tracker')",
   "language": "python",
   "name": "python3"
  },
  "language_info": {
   "codemirror_mode": {
    "name": "ipython",
    "version": 3
   },
   "file_extension": ".py",
   "mimetype": "text/x-python",
   "name": "python",
   "nbconvert_exporter": "python",
   "pygments_lexer": "ipython3",
   "version": "3.9.13"
  },
  "orig_nbformat": 4,
  "vscode": {
   "interpreter": {
    "hash": "acf655843db445ab57708931b41e57525edffdfdfca7bc310b600cc2a2d8712f"
   }
  }
 },
 "nbformat": 4,
 "nbformat_minor": 2
}
